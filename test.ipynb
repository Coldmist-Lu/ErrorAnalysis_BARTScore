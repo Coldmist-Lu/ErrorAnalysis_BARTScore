{
 "cells": [
  {
   "cell_type": "code",
   "execution_count": 3,
   "metadata": {},
   "outputs": [
    {
     "name": "stdout",
     "output_type": "stream",
     "text": [
      "---------------Metric Parameters-------------------\n",
      "Model name:  bartpara\n",
      "Device:  cuda:0\n",
      "Batch size:  4\n",
      "Token Max Length:  1024\n",
      "K in top-k sampling:  10\n",
      "Prompt Location:  enc\n",
      "Method for Checking Non-translation:  overlap\n",
      "BARTScore Variant:  f\n"
     ]
    },
    {
     "name": "stderr",
     "output_type": "stream",
     "text": [
      "Refine sentences: 100%|███████████████████████████████████████████████| 2/2 [00:06<00:00,  3.49s/it]\n",
      "scoring src no prompt: 100%|██████████████████████████████████████████| 1/1 [00:00<00:00,  4.61it/s]\n",
      "scoring src enc Such as: 100%|████████████████████████████████████████| 1/1 [00:00<00:00,  4.88it/s]\n",
      "scoring refine no prompt: 100%|███████████████████████████████████████| 1/1 [00:00<00:00,  6.22it/s]\n",
      "scoring refine enc Such as: 100%|█████████████████████████████████████| 1/1 [00:00<00:00,  5.83it/s]\n",
      "scoring tgt no prompt: 100%|██████████████████████████████████████████| 1/1 [00:00<00:00,  5.30it/s]\n",
      "scoring tgt enc Such as: 100%|████████████████████████████████████████| 1/1 [00:00<00:00,  5.24it/s]\n"
     ]
    },
    {
     "data": {
      "text/plain": [
       "([-1.2686866890816462, -0.9668353909537906],\n",
       " [{'src': 'Mike goes to the bookstore.',\n",
       "   'tgt': 'Jerry goes to bookstore happily.',\n",
       "   'iteration': 2,\n",
       "   'error analysis': [{'sent': 'Mike goes to bookstore happily.',\n",
       "     'index': tensor(1, device='cuda:0'),\n",
       "     'strategy': 'replace',\n",
       "     'token_before': 'Jerry',\n",
       "     'token_refine': 'Mike',\n",
       "     'score': -2.5895864963531494},\n",
       "    {'sent': 'Mike goes to bookstore.',\n",
       "     'index': tensor(5, device='cuda:0'),\n",
       "     'strategy': 'delete',\n",
       "     'token_before': 'happily',\n",
       "     'token_refine': '',\n",
       "     'score': -1.4461784958839417}],\n",
       "   's2s_score': {'src no prompt': -1.1906744241714478,\n",
       "    'src enc Such as': -1.2998087406158447},\n",
       "   's2r_score': {'refine no prompt': -1.4461731910705566,\n",
       "    'refine enc Such as': -1.5639016032218933},\n",
       "   's2t_score': {'tgt no prompt': -3.89084529876709,\n",
       "    'tgt enc Such as': -3.9376415014266968}},\n",
       "  {'src': 'The cat is on the mat.',\n",
       "   'tgt': 'The mat sat on the mat.',\n",
       "   'iteration': 1,\n",
       "   'error analysis': [{'sent': 'The cat sat on the mat.',\n",
       "     'index': tensor(2, device='cuda:0'),\n",
       "     'strategy': 'replace',\n",
       "     'token_before': 'mat',\n",
       "     'token_refine': 'cat',\n",
       "     'score': -1.7871894836425781}],\n",
       "   's2s_score': {'src no prompt': -1.178429126739502,\n",
       "    'src enc Such as': -1.1346678733825684},\n",
       "   's2r_score': {'refine no prompt': -1.7876771688461304,\n",
       "    'refine enc Such as': -1.79741370677948},\n",
       "   's2t_score': {'tgt no prompt': -3.122300624847412,\n",
       "    'tgt enc Such as': -3.0987476110458374}}])"
      ]
     },
     "execution_count": 3,
     "metadata": {},
     "output_type": "execute_result"
    }
   ],
   "source": [
    "# This is an example of using BARTScore4NLG_Scorer.\n",
    "from score import BARTScore4NLG_Scorer\n",
    "\n",
    "scorer = BARTScore4NLG_Scorer(task='MT_WMT20', setting='zh-en', signature='bs:4|model:para')\n",
    "\n",
    "src = ['Mike goes to the bookstore.', 'The cat is on the mat.']\n",
    "tgt = ['Jerry goes to bookstore happily.', 'The mat sat on the mat.']\n",
    "scorer.score(src, tgt)"
   ]
  }
 ],
 "metadata": {
  "kernelspec": {
   "display_name": "base",
   "language": "python",
   "name": "python3"
  },
  "language_info": {
   "codemirror_mode": {
    "name": "ipython",
    "version": 3
   },
   "file_extension": ".py",
   "mimetype": "text/x-python",
   "name": "python",
   "nbconvert_exporter": "python",
   "pygments_lexer": "ipython3",
   "version": "3.8.12"
  },
  "orig_nbformat": 4
 },
 "nbformat": 4,
 "nbformat_minor": 2
}
